{
 "cells": [
  {
   "cell_type": "markdown",
   "metadata": {},
   "source": [
    "# Data"
   ]
  },
  {
   "cell_type": "markdown",
   "metadata": {},
   "source": [
    "For the data in this prototype, we will use Toronto as an example city, using a data base with all boroughs, postal code and name each neighborhood. Also we will use the Foursquare API to obtain the data on what venues are located at each neighborhood. In this data, we will have the latitude and longitude for each venue, as well as the category and name for them. For the user data, we will create a random user, with a random number of preferences(from 1 to 10) and select randomly from the list of categories available in the city(obtained through the Foursquare API) that number of categories.\n"
   ]
  }
 ],
 "metadata": {
  "kernelspec": {
   "display_name": "Python 3",
   "language": "python",
   "name": "python3"
  },
  "language_info": {
   "codemirror_mode": {
    "name": "ipython",
    "version": 3
   },
   "file_extension": ".py",
   "mimetype": "text/x-python",
   "name": "python",
   "nbconvert_exporter": "python",
   "pygments_lexer": "ipython3",
   "version": "3.6.8"
  }
 },
 "nbformat": 4,
 "nbformat_minor": 2
}
