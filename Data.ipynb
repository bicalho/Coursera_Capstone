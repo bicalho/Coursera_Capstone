{
 "cells": [
  {
   "cell_type": "markdown",
   "metadata": {},
   "source": [
    "# Data"
   ]
  },
  {
   "cell_type": "markdown",
   "metadata": {},
   "source": [
    "For the data in this prototype, we will have 4 sources:\n",
    "* Toronto neighborhood and boroughs dataset - As an example city, using a dataset with all boroughs, postal code and name of each neighborhood. Available at https://en.wikipedia.org/wiki/List_of_postal_codes_of_Canada:_M.\n",
    "  \n",
    "* Geospatial data for Toronto - Contains the latitude and longitude for each neighborhood in the city of Toronto. Available at http://cocl.us/Geospatial_data or obtained with the geocoder python library.\n",
    "  \n",
    "* Foursquare API - Allows to obtain the data on what venues are located at each neighborhood. In this data, we will be able to obtain the latitude and longitude for each venue, as well as the category and name for them.\n",
    "  \n",
    "\n",
    "* User data - a random user will be generated, with a random number of preferences(from 1 to 10) and select randomly from the list of categories available in the city (obtained through the Foursquare API) that number of categories.  \n"
   ]
  }
 ],
 "metadata": {
  "kernelspec": {
   "display_name": "Python 3",
   "language": "python",
   "name": "python3"
  },
  "language_info": {
   "codemirror_mode": {
    "name": "ipython",
    "version": 3
   },
   "file_extension": ".py",
   "mimetype": "text/x-python",
   "name": "python",
   "nbconvert_exporter": "python",
   "pygments_lexer": "ipython3",
   "version": "3.6.8"
  }
 },
 "nbformat": 4,
 "nbformat_minor": 2
}
